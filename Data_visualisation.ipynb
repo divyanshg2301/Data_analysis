{
  "cells": [
    {
      "cell_type": "markdown",
      "metadata": {
        "id": "view-in-github",
        "colab_type": "text"
      },
      "source": [
        "<a href=\"https://colab.research.google.com/github/divyanshg2301/Data_analysis/blob/main/Data_visualisation.ipynb\" target=\"_parent\"><img src=\"https://colab.research.google.com/assets/colab-badge.svg\" alt=\"Open In Colab\"/></a>"
      ]
    },
    {
      "cell_type": "code",
      "execution_count": null,
      "metadata": {
        "id": "R_K-glPVecZA"
      },
      "outputs": [],
      "source": [
        "!wget https://techlearn-cdn.s3.amazonaws.com/Data_analytics_specialization/capstone_project/survey_results_public.csv\n",
        "import numpy as np\n",
        "import pandas as pd\n",
        "from matplotlib import pyplot as plt\n",
        "import seaborn as sns\n",
        " \n",
        "survey = pd.read_csv('survey_results_public.csv')\n",
        "survey.head()"
      ]
    },
    {
      "cell_type": "code",
      "execution_count": null,
      "metadata": {
        "id": "DeoLpd46ecZD"
      },
      "outputs": [],
      "source": [
        "\n",
        "#3.1\n",
        "df_country = survey.groupby('Country')['Respondent'].nunique().sort_values(ascending=False)\n",
        " \n",
        "fig = plt.figure(figsize=(15,9))\n",
        "sns.barplot(y=df_country[:20].index,x=df_country[:20].values, palette=\"Blues_r_d\")\n",
        "plt.xlabel('Number of respondents')\n",
        "plt.show()"
      ]
    },
    {
      "cell_type": "code",
      "execution_count": null,
      "metadata": {
        "id": "Ip_uIjzWecZE"
      },
      "outputs": [],
      "source": [
        "\n",
        "#3.2\n",
        "survey_india = survey[survey['Country']=='India']\n",
        "survey_india.head(2)\n",
        "fig = plt.figure(figsize=(15,9))\n",
        "sns.kdeplot(survey['Age'], label='All')\n",
        "plt.ylabel('Density of  respondents')\n",
        "sns.kdeplot(survey_india['Age'],  label='India')\n",
        "plt.xlim(0,80)\n",
        "plt.legend()\n",
        "plt.show()"
      ]
    },
    {
      "cell_type": "code",
      "execution_count": null,
      "metadata": {
        "id": "ZKtn5-3secZE"
      },
      "outputs": [],
      "source": [
        "\n",
        "#3.3\n",
        "#code\n",
        "survey_mean = survey.groupby(by='Country').mean()\n",
        "survey_mean \n",
        "#code\n",
        "survey_country_sorted = survey.groupby('Country').count().sort_values('Respondent',ascending=False)\n",
        "survey_country_sorted\n",
        "#code\n",
        "fig = plt.figure(figsize=(20,9))\n",
        "sns.barplot(y=survey_country_sorted.head(10).index,x='ConvertedComp',data=survey_country_sorted.head(10), palette=\"Blues_r_d\")\n",
        "plt.xlabel('Average Compensation')\n",
        "plt.show()"
      ]
    },
    {
      "cell_type": "code",
      "execution_count": null,
      "metadata": {
        "id": "fKkZuc2KecZF"
      },
      "outputs": [],
      "source": [
        "\n",
        "#3.4\n",
        "#code\n",
        "survey['DeveloperType']=survey['DevType'].str.split(';')\n",
        "survey['DeveloperType'][0]\n",
        " \n",
        "#code\n",
        "survey_exploaded_devs=survey.explode('DeveloperType')\n",
        "# drop from original dataframe\n",
        "survey.drop(columns='DeveloperType',inplace=True)\n",
        "survey_exploaded_devs.head(3)\n",
        " \n",
        "#code"
      ]
    },
    {
      "cell_type": "code",
      "execution_count": null,
      "metadata": {
        "id": "fQvYghlxecZF"
      },
      "outputs": [],
      "source": [
        "survey_exploaded_devs.drop(columns='DevType',inplace=True)\n",
        "# Dealing with missing Compensations\n",
        "survey_exploaded_devs.dropna(subset=['ConvertedComp'],inplace=True)\n",
        " \n",
        "#code"
      ]
    },
    {
      "cell_type": "code",
      "execution_count": null,
      "metadata": {
        "id": "RXWtZUbsecZF"
      },
      "outputs": [],
      "source": [
        "dev_compensation = survey_exploaded_devs.groupby('DeveloperType')['ConvertedComp'].mean().sort_values(ascending=False)\n",
        " \n",
        "fig = plt.figure(figsize=(15,9))\n",
        "sns.barplot(x=dev_compensation.values,y=dev_compensation.index,palette='Blues_r_d')\n",
        "plt.xlabel('Average Compensation ($)')\n",
        "plt.ylabel('Profession')\n",
        "plt.show()"
      ]
    },
    {
      "cell_type": "code",
      "execution_count": null,
      "metadata": {
        "id": "2uTwU-NCecZG"
      },
      "outputs": [],
      "source": [
        "\n",
        "#3.5\n",
        "#code\n",
        "employment_country_df = pd.pivot_table(survey,index='Country', columns='Employment',values='Respondent', aggfunc='count')\n",
        "employment_country_df"
      ]
    },
    {
      "cell_type": "code",
      "execution_count": null,
      "metadata": {
        "id": "Pq0jNe_recZG"
      },
      "outputs": [],
      "source": [
        "#code\n",
        "employment_country_df.columns"
      ]
    },
    {
      "cell_type": "code",
      "execution_count": null,
      "metadata": {
        "id": "CjUfxqwpecZH"
      },
      "outputs": [],
      "source": [
        "\n",
        "#code\n",
        "unemployment = employment_country_df['Not employed, but looking for work'] /(employment_country_df['Not employed, but looking for work'] +        employment_country_df['Employed full-time'] +\n",
        "employment_country_df['Employed part-time'] +                 employment_country_df['Independent contractor, freelancer, or self-employed'] ) * 100"
      ]
    },
    {
      "cell_type": "code",
      "execution_count": null,
      "metadata": {
        "id": "llgy3tUEecZH"
      },
      "outputs": [],
      "source": [
        "\n",
        "#code\n",
        "unemployment "
      ]
    },
    {
      "cell_type": "code",
      "execution_count": null,
      "metadata": {
        "id": "NnOVO7kCecZH"
      },
      "outputs": [],
      "source": [
        "\n",
        "#code\n",
        "fig = plt.figure(figsize=(15,9))\n",
        "sns.barplot(x=unemployment.loc[survey_country_sorted.index].head(20),y=survey_country_sorted.index[:20],palette='Reds_r_d')\n",
        "plt.xlabel('Unemployment %')\n",
        "plt.title('Unemployment in top surveyed countries')\n",
        "plt.show()"
      ]
    },
    {
      "cell_type": "code",
      "execution_count": null,
      "metadata": {
        "id": "uUl5acpnecZI"
      },
      "outputs": [],
      "source": [
        "\n",
        "#3.6\n",
        "#code\n",
        "survey['LNextYear']=survey['LanguageDesireNextYear'].str.split(';')\n",
        " \n",
        "survey_exploaded_lnextyear=survey.explode('LNextYear')\n",
        "survey.drop(columns='LNextYear',inplace=True)\n",
        " \n",
        "survey_exploaded_lnextyear.drop(columns='LanguageDesireNextYear',inplace=True)\n",
        " \n",
        "#code\n",
        "lnext_respondent=survey_exploaded_lnextyear.groupby('LNextYear')['Respondent'].nunique().sort_values(ascending=False)\n",
        " \n",
        "#code\n",
        "fig = plt.figure(figsize=(15,9))\n",
        "sns.barplot(x=lnext_respondent[:20],y=lnext_respondent[:20].index,palette='Greens_r_d')\n",
        "plt.xlabel('Number of Respondents')\n",
        "plt.ylabel('Language')\n",
        "plt.show()"
      ]
    },
    {
      "cell_type": "code",
      "execution_count": null,
      "metadata": {
        "id": "AAqqsN-pecZJ"
      },
      "outputs": [],
      "source": [
        "\n",
        "#3.7\n",
        "#code\n",
        "survey['PNextYear'] = survey['PlatformDesireNextYear'].str.split(';')\n",
        "survey_exploaded_pnextyear = survey.explode('PNextYear')\n",
        "# print(survey_exploaded_pnextyear)\n",
        "survey.drop(columns='PNextYear',inplace=True)\n",
        " \n",
        "survey_exploaded_pnextyear.drop(columns='PlatformDesireNextYear',inplace=True)"
      ]
    },
    {
      "cell_type": "code",
      "execution_count": null,
      "metadata": {
        "id": "BpS1LE_OecZK"
      },
      "outputs": [],
      "source": [
        "#code\n",
        "pnext_respondent = survey_exploaded_pnextyear.groupby('PNextYear')['Respondent'].nunique().sort_values(ascending=False)"
      ]
    },
    {
      "cell_type": "code",
      "execution_count": null,
      "metadata": {
        "id": "LhfwZszDecZL"
      },
      "outputs": [],
      "source": [
        "#code\n",
        "fig = plt.figure(figsize=(15,9))\n",
        "sns.barplot(x=pnext_respondent[:20],y=pnext_respondent[:20].index,palette='Reds_r_d')\n",
        "plt.xlabel('Number of Respondents')\n",
        "plt.ylabel('')\n",
        "plt.show()"
      ]
    },
    {
      "cell_type": "code",
      "execution_count": null,
      "metadata": {
        "id": "kri_QDNoecZL"
      },
      "outputs": [],
      "source": [
        "\n",
        "#3.8\n",
        "#code\n",
        "survey[survey['WorkWeekHrs'] >= 168].count()"
      ]
    },
    {
      "cell_type": "code",
      "execution_count": null,
      "metadata": {
        "id": "FQqbsn3VecZL"
      },
      "outputs": [],
      "source": [
        "#code\n",
        "survey[survey['WorkWeekHrs']<168]['WorkWeekHrs']\n",
        " \n",
        "#code\n",
        "fig = plt.figure(figsize=(15,9))\n",
        "sns.kdeplot(survey[survey['WorkWeekHrs'] < 168]['WorkWeekHrs'])\n",
        "plt.ylabel('Density of respondents')\n",
        "plt.show()"
      ]
    }
  ],
  "metadata": {
    "kernelspec": {
      "display_name": "Python 3",
      "language": "python",
      "name": "python3"
    },
    "language_info": {
      "codemirror_mode": {
        "name": "ipython",
        "version": 3
      },
      "file_extension": ".py",
      "mimetype": "text/x-python",
      "name": "python",
      "nbconvert_exporter": "python",
      "pygments_lexer": "ipython3",
      "version": "3.7.4"
    },
    "colab": {
      "name": "Step 3.ipynb",
      "provenance": [],
      "include_colab_link": true
    }
  },
  "nbformat": 4,
  "nbformat_minor": 0
}